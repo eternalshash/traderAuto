{
 "cells": [
  {
   "cell_type": "code",
   "execution_count": null,
   "id": "f9acfc8c",
   "metadata": {},
   "outputs": [],
   "source": [
    "# file path /Users/schoudhry/Desktop/shashy/traderAuto/wmntJan9.csv\n",
    "\n"
   ]
  }
 ],
 "metadata": {
  "language_info": {
   "name": "python"
  }
 },
 "nbformat": 4,
 "nbformat_minor": 5
}
